{
 "cells": [
  {
   "cell_type": "code",
   "execution_count": 23,
   "metadata": {},
   "outputs": [],
   "source": [
    "import json\n",
    "import requests\n",
    "import pickle\n",
    "import datetime\n",
    "import pandas as pd\n",
    "import numpy as np\n",
    "import gmaps\n",
    "import os\n",
    "\n",
    "# Weather API Key\n",
    "# api_key uniquely belongs to Sean\n",
    "api_key_loc = './../weather_apikey.txt'\n",
    "\n",
    "f = open(api_key_loc, \"r\")\n",
    "key = f.readline()\n",
    "f.close()\n",
    "\n",
    "# api_key uniquely belongs to Sean\n",
    "map_api_key_loc = './../apikey.txt'\n",
    "\n",
    "f = open(map_api_key_loc, \"r\")\n",
    "map_key = f.readline()\n",
    "f.close()"
   ]
  },
  {
   "cell_type": "code",
   "execution_count": 24,
   "metadata": {},
   "outputs": [],
   "source": [
    "def get_weather_info(lat, lng, year, month, day, hr):\n",
    "    dt = datetime.date(year, month, day)\n",
    "    str_hr = \"\"\n",
    "    if(hr < 10):\n",
    "        str_hr = \"0\"+str(hr)\n",
    "    else:\n",
    "        str_hr = str(hr)\n",
    "    tm = dt.strftime(\"%Y-%m-%d\") + \"T\" + str_hr + \":00:01\"  # get the exact hour's forecast\n",
    "\n",
    "    url = \"https://api.darksky.net/forecast/\" + key + \\\n",
    "    \"/\" + str(lat) + \",\" + str(lng) + \",\" + tm + \\\n",
    "    \"?exclude=minutely,flags,daily,alerts,hourly\"\n",
    "    \n",
    "    response = requests.get(url)\n",
    "    data = response.json()\n",
    "    return data"
   ]
  },
  {
   "cell_type": "code",
   "execution_count": 25,
   "metadata": {},
   "outputs": [],
   "source": [
    "def calculate_distance(src_lat, src_lng, cluster):\n",
    "    cluster['Distance'] = cluster.apply(lambda row: \\\n",
    "                                        np.sqrt(np.square(row.Latitude - src_lat) + np.square(row.Longitude - src_lng)),\\\n",
    "                                        axis=1)\n",
    "    \n",
    "    return cluster"
   ]
  },
  {
   "cell_type": "code",
   "execution_count": 26,
   "metadata": {},
   "outputs": [],
   "source": [
    "filename = 'rf_classifier.sav'\n",
    "rf_model = pickle.load(open(filename, 'rb'))"
   ]
  },
  {
   "cell_type": "code",
   "execution_count": 27,
   "metadata": {},
   "outputs": [
    {
     "data": {
      "text/plain": [
       "RandomForestClassifier(bootstrap=True, class_weight=None, criterion='gini',\n",
       "                       max_depth=None, max_features='auto', max_leaf_nodes=None,\n",
       "                       min_impurity_decrease=0.0, min_impurity_split=None,\n",
       "                       min_samples_leaf=1, min_samples_split=2,\n",
       "                       min_weight_fraction_leaf=0.0, n_estimators=100, n_jobs=6,\n",
       "                       oob_score=False, random_state=None, verbose=0,\n",
       "                       warm_start=False)"
      ]
     },
     "execution_count": 27,
     "metadata": {},
     "output_type": "execute_result"
    }
   ],
   "source": [
    "rf_model"
   ]
  },
  {
   "cell_type": "code",
   "execution_count": 28,
   "metadata": {},
   "outputs": [
    {
     "data": {
      "text/plain": [
       "datetime.datetime(2019, 11, 14, 18, 53, 1, 583913)"
      ]
     },
     "execution_count": 28,
     "metadata": {},
     "output_type": "execute_result"
    }
   ],
   "source": [
    "# time retrieval\n",
    "curr_time = datetime.datetime.now()\n",
    "curr_time"
   ]
  },
  {
   "cell_type": "code",
   "execution_count": 29,
   "metadata": {},
   "outputs": [
    {
     "data": {
      "text/plain": [
       "3"
      ]
     },
     "execution_count": 29,
     "metadata": {},
     "output_type": "execute_result"
    }
   ],
   "source": [
    "curr_time.weekday()"
   ]
  },
  {
   "cell_type": "code",
   "execution_count": 30,
   "metadata": {},
   "outputs": [],
   "source": [
    "# get weather data\n",
    "# this location is a current building location\n",
    "curr_lat = 37.336431\n",
    "curr_lng = -121.883980\n",
    "\n",
    "curr_weather = get_weather_info(curr_lat, curr_lng, curr_time.year, curr_time.month, curr_time.day, curr_time.hour)"
   ]
  },
  {
   "cell_type": "code",
   "execution_count": 31,
   "metadata": {},
   "outputs": [
    {
     "data": {
      "text/plain": [
       "{'latitude': 37.336431,\n",
       " 'longitude': -121.88398,\n",
       " 'timezone': 'America/Los_Angeles',\n",
       " 'currently': {'time': 1573783201,\n",
       "  'summary': 'Mostly Cloudy',\n",
       "  'icon': 'partly-cloudy-night',\n",
       "  'precipIntensity': 0,\n",
       "  'precipProbability': 0,\n",
       "  'temperature': 58.35,\n",
       "  'apparentTemperature': 58.35,\n",
       "  'dewPoint': 48.63,\n",
       "  'humidity': 0.7,\n",
       "  'pressure': 1019.5,\n",
       "  'windSpeed': 3.75,\n",
       "  'windGust': 5.85,\n",
       "  'windBearing': 210,\n",
       "  'cloudCover': 0.77,\n",
       "  'uvIndex': 0,\n",
       "  'visibility': 10,\n",
       "  'ozone': 272.3},\n",
       " 'offset': -8}"
      ]
     },
     "execution_count": 31,
     "metadata": {},
     "output_type": "execute_result"
    }
   ],
   "source": [
    "curr_weather"
   ]
  },
  {
   "cell_type": "code",
   "execution_count": 32,
   "metadata": {},
   "outputs": [],
   "source": [
    "features = ['Year', 'Month', 'Day', 'Day_of_Year', 'Weekday', 'Hour',\\\n",
    "            'Humidity(%)', 'Temperature(F)', 'Visibility(mi)', 'Wind_Speed(mph)']\n",
    "\n",
    "_year = curr_time.year\n",
    "_month = curr_time.month\n",
    "_day = curr_time.day\n",
    "_day_of_year = curr_time.timetuple().tm_yday\n",
    "_weekday = curr_time.weekday()\n",
    "_hour = curr_time.hour\n",
    "\n",
    "_humidity = curr_weather['currently']['humidity']\n",
    "_temperature = curr_weather['currently']['temperature']\n",
    "_visibility = curr_weather['currently']['visibility']\n",
    "_windspeed = curr_weather['currently']['windSpeed']\n",
    "\n",
    "X = pd.DataFrame([[_year, _month, _day, _day_of_year, _weekday, _hour,\\\n",
    "                  _humidity, _temperature, _visibility, _windspeed]],\\\n",
    "                  columns = features)"
   ]
  },
  {
   "cell_type": "code",
   "execution_count": 33,
   "metadata": {},
   "outputs": [
    {
     "data": {
      "application/vnd.jupyter.widget-view+json": {
       "model_id": "bd19f0f2a4454774b71eb672a34327cb",
       "version_major": 2,
       "version_minor": 0
      },
      "text/plain": [
       "Figure(layout=FigureLayout(height='420px'))"
      ]
     },
     "metadata": {},
     "output_type": "display_data"
    }
   ],
   "source": [
    "gmaps.configure(api_key=map_key)\n",
    "\n",
    "locations = pd.DataFrame([[curr_lat, curr_lng]], columns = ['Start_Lat', 'Start_Lng'])\n",
    "locations = locations[['Start_Lat','Start_Lng']]\n",
    "\n",
    "fig = gmaps.figure(map_type='SATELLITE', center=(curr_lat, curr_lng), zoom_level=18)\n",
    "\n",
    "symbols = gmaps.symbol_layer(locations, fill_color='red', stroke_color='red', info_box_content=str(curr_weather))\n",
    "fig.add_layer(symbols)\n",
    "fig"
   ]
  },
  {
   "cell_type": "code",
   "execution_count": 34,
   "metadata": {},
   "outputs": [
    {
     "name": "stdout",
     "output_type": "stream",
     "text": [
      "Will there be an accident?  False\n"
     ]
    }
   ],
   "source": [
    "result = (rf_model.predict(X) == 1.0)\n",
    "print('Will there be an accident? ', result[0])"
   ]
  },
  {
   "cell_type": "markdown",
   "metadata": {},
   "source": [
    "## Finding Nearest Accident Hotspot"
   ]
  },
  {
   "cell_type": "code",
   "execution_count": 35,
   "metadata": {},
   "outputs": [],
   "source": [
    "hotspots = pd.read_csv('cluster_info.csv')"
   ]
  },
  {
   "cell_type": "code",
   "execution_count": 36,
   "metadata": {},
   "outputs": [
    {
     "data": {
      "text/html": [
       "<div>\n",
       "<style scoped>\n",
       "    .dataframe tbody tr th:only-of-type {\n",
       "        vertical-align: middle;\n",
       "    }\n",
       "\n",
       "    .dataframe tbody tr th {\n",
       "        vertical-align: top;\n",
       "    }\n",
       "\n",
       "    .dataframe thead th {\n",
       "        text-align: right;\n",
       "    }\n",
       "</style>\n",
       "<table border=\"1\" class=\"dataframe\">\n",
       "  <thead>\n",
       "    <tr style=\"text-align: right;\">\n",
       "      <th></th>\n",
       "      <th>Cluster</th>\n",
       "      <th>Longitude</th>\n",
       "      <th>Latitude</th>\n",
       "      <th>Distance</th>\n",
       "    </tr>\n",
       "  </thead>\n",
       "  <tbody>\n",
       "    <tr>\n",
       "      <td>102</td>\n",
       "      <td>102</td>\n",
       "      <td>-121.880839</td>\n",
       "      <td>37.327054</td>\n",
       "      <td>0.009889</td>\n",
       "    </tr>\n",
       "    <tr>\n",
       "      <td>10</td>\n",
       "      <td>10</td>\n",
       "      <td>-121.878099</td>\n",
       "      <td>37.327630</td>\n",
       "      <td>0.010585</td>\n",
       "    </tr>\n",
       "    <tr>\n",
       "      <td>137</td>\n",
       "      <td>137</td>\n",
       "      <td>-121.875633</td>\n",
       "      <td>37.327972</td>\n",
       "      <td>0.011884</td>\n",
       "    </tr>\n",
       "    <tr>\n",
       "      <td>116</td>\n",
       "      <td>116</td>\n",
       "      <td>-121.896916</td>\n",
       "      <td>37.332725</td>\n",
       "      <td>0.013456</td>\n",
       "    </tr>\n",
       "    <tr>\n",
       "      <td>32</td>\n",
       "      <td>32</td>\n",
       "      <td>-121.889776</td>\n",
       "      <td>37.324095</td>\n",
       "      <td>0.013629</td>\n",
       "    </tr>\n",
       "    <tr>\n",
       "      <td>...</td>\n",
       "      <td>...</td>\n",
       "      <td>...</td>\n",
       "      <td>...</td>\n",
       "      <td>...</td>\n",
       "    </tr>\n",
       "    <tr>\n",
       "      <td>122</td>\n",
       "      <td>122</td>\n",
       "      <td>-121.772612</td>\n",
       "      <td>37.243817</td>\n",
       "      <td>0.144846</td>\n",
       "    </tr>\n",
       "    <tr>\n",
       "      <td>64</td>\n",
       "      <td>64</td>\n",
       "      <td>-121.769187</td>\n",
       "      <td>37.241972</td>\n",
       "      <td>0.148661</td>\n",
       "    </tr>\n",
       "    <tr>\n",
       "      <td>61</td>\n",
       "      <td>61</td>\n",
       "      <td>-122.027229</td>\n",
       "      <td>37.295801</td>\n",
       "      <td>0.148900</td>\n",
       "    </tr>\n",
       "    <tr>\n",
       "      <td>41</td>\n",
       "      <td>41</td>\n",
       "      <td>-122.032101</td>\n",
       "      <td>37.300768</td>\n",
       "      <td>0.152354</td>\n",
       "    </tr>\n",
       "    <tr>\n",
       "      <td>58</td>\n",
       "      <td>58</td>\n",
       "      <td>-121.722701</td>\n",
       "      <td>37.209597</td>\n",
       "      <td>0.205177</td>\n",
       "    </tr>\n",
       "  </tbody>\n",
       "</table>\n",
       "<p>138 rows × 4 columns</p>\n",
       "</div>"
      ],
      "text/plain": [
       "     Cluster   Longitude   Latitude  Distance\n",
       "102      102 -121.880839  37.327054  0.009889\n",
       "10        10 -121.878099  37.327630  0.010585\n",
       "137      137 -121.875633  37.327972  0.011884\n",
       "116      116 -121.896916  37.332725  0.013456\n",
       "32        32 -121.889776  37.324095  0.013629\n",
       "..       ...         ...        ...       ...\n",
       "122      122 -121.772612  37.243817  0.144846\n",
       "64        64 -121.769187  37.241972  0.148661\n",
       "61        61 -122.027229  37.295801  0.148900\n",
       "41        41 -122.032101  37.300768  0.152354\n",
       "58        58 -121.722701  37.209597  0.205177\n",
       "\n",
       "[138 rows x 4 columns]"
      ]
     },
     "execution_count": 36,
     "metadata": {},
     "output_type": "execute_result"
    }
   ],
   "source": [
    "hotspots = calculate_distance(curr_lat, curr_lng, hotspots)\n",
    "hotspots = hotspots.sort_values(by=['Distance'])\n",
    "hotspots"
   ]
  },
  {
   "cell_type": "code",
   "execution_count": 37,
   "metadata": {},
   "outputs": [
    {
     "name": "stdout",
     "output_type": "stream",
     "text": [
      "closest hotspot =  (37.327054132075475, -121.88083898113207)\n"
     ]
    },
    {
     "data": {
      "application/vnd.jupyter.widget-view+json": {
       "model_id": "bcfb12a4b1f147bf917f78cd6cc69b99",
       "version_major": 2,
       "version_minor": 0
      },
      "text/plain": [
       "Figure(layout=FigureLayout(height='420px'))"
      ]
     },
     "metadata": {},
     "output_type": "display_data"
    }
   ],
   "source": [
    "gmaps.configure(api_key=map_key)\n",
    "\n",
    "hotspot = hotspots.iloc[0:1][['Latitude', 'Longitude']]\n",
    "curr_location = (curr_lat, curr_lng)\n",
    "hotspot = (hotspot['Latitude'].values[0], hotspot['Longitude'].values[0])\n",
    "print(\"closest hotspot = \",hotspot)\n",
    "\n",
    "fig = gmaps.figure()\n",
    "src_to_dest = gmaps.directions_layer(curr_location, hotspot)\n",
    "fig.add_layer(src_to_dest)\n",
    "fig"
   ]
  },
  {
   "cell_type": "markdown",
   "metadata": {},
   "source": [
    "# Different Approach"
   ]
  },
  {
   "cell_type": "code",
   "execution_count": 38,
   "metadata": {},
   "outputs": [
    {
     "data": {
      "text/html": [
       "<div>\n",
       "<style scoped>\n",
       "    .dataframe tbody tr th:only-of-type {\n",
       "        vertical-align: middle;\n",
       "    }\n",
       "\n",
       "    .dataframe tbody tr th {\n",
       "        vertical-align: top;\n",
       "    }\n",
       "\n",
       "    .dataframe thead th {\n",
       "        text-align: right;\n",
       "    }\n",
       "</style>\n",
       "<table border=\"1\" class=\"dataframe\">\n",
       "  <thead>\n",
       "    <tr style=\"text-align: right;\">\n",
       "      <th></th>\n",
       "      <th>Cluster</th>\n",
       "      <th>Longitude</th>\n",
       "      <th>Latitude</th>\n",
       "      <th>Distance</th>\n",
       "    </tr>\n",
       "  </thead>\n",
       "  <tbody>\n",
       "    <tr>\n",
       "      <td>0</td>\n",
       "      <td>0</td>\n",
       "      <td>-121.911475</td>\n",
       "      <td>37.250607</td>\n",
       "      <td>0.090120</td>\n",
       "    </tr>\n",
       "    <tr>\n",
       "      <td>1</td>\n",
       "      <td>1</td>\n",
       "      <td>-121.870144</td>\n",
       "      <td>37.328977</td>\n",
       "      <td>0.015716</td>\n",
       "    </tr>\n",
       "    <tr>\n",
       "      <td>2</td>\n",
       "      <td>2</td>\n",
       "      <td>-121.904376</td>\n",
       "      <td>37.382332</td>\n",
       "      <td>0.050228</td>\n",
       "    </tr>\n",
       "    <tr>\n",
       "      <td>3</td>\n",
       "      <td>3</td>\n",
       "      <td>-121.908851</td>\n",
       "      <td>37.401425</td>\n",
       "      <td>0.069590</td>\n",
       "    </tr>\n",
       "    <tr>\n",
       "      <td>4</td>\n",
       "      <td>4</td>\n",
       "      <td>-121.852372</td>\n",
       "      <td>37.339455</td>\n",
       "      <td>0.031752</td>\n",
       "    </tr>\n",
       "    <tr>\n",
       "      <td>...</td>\n",
       "      <td>...</td>\n",
       "      <td>...</td>\n",
       "      <td>...</td>\n",
       "      <td>...</td>\n",
       "    </tr>\n",
       "    <tr>\n",
       "      <td>133</td>\n",
       "      <td>133</td>\n",
       "      <td>-121.858940</td>\n",
       "      <td>37.262721</td>\n",
       "      <td>0.077847</td>\n",
       "    </tr>\n",
       "    <tr>\n",
       "      <td>134</td>\n",
       "      <td>134</td>\n",
       "      <td>-121.938527</td>\n",
       "      <td>37.294895</td>\n",
       "      <td>0.068561</td>\n",
       "    </tr>\n",
       "    <tr>\n",
       "      <td>135</td>\n",
       "      <td>135</td>\n",
       "      <td>-121.930717</td>\n",
       "      <td>37.374337</td>\n",
       "      <td>0.060177</td>\n",
       "    </tr>\n",
       "    <tr>\n",
       "      <td>136</td>\n",
       "      <td>136</td>\n",
       "      <td>-121.814369</td>\n",
       "      <td>37.301270</td>\n",
       "      <td>0.077987</td>\n",
       "    </tr>\n",
       "    <tr>\n",
       "      <td>137</td>\n",
       "      <td>137</td>\n",
       "      <td>-121.875633</td>\n",
       "      <td>37.327972</td>\n",
       "      <td>0.011884</td>\n",
       "    </tr>\n",
       "  </tbody>\n",
       "</table>\n",
       "<p>138 rows × 4 columns</p>\n",
       "</div>"
      ],
      "text/plain": [
       "     Cluster   Longitude   Latitude  Distance\n",
       "0          0 -121.911475  37.250607  0.090120\n",
       "1          1 -121.870144  37.328977  0.015716\n",
       "2          2 -121.904376  37.382332  0.050228\n",
       "3          3 -121.908851  37.401425  0.069590\n",
       "4          4 -121.852372  37.339455  0.031752\n",
       "..       ...         ...        ...       ...\n",
       "133      133 -121.858940  37.262721  0.077847\n",
       "134      134 -121.938527  37.294895  0.068561\n",
       "135      135 -121.930717  37.374337  0.060177\n",
       "136      136 -121.814369  37.301270  0.077987\n",
       "137      137 -121.875633  37.327972  0.011884\n",
       "\n",
       "[138 rows x 4 columns]"
      ]
     },
     "execution_count": 38,
     "metadata": {},
     "output_type": "execute_result"
    }
   ],
   "source": [
    "hotspots = pd.read_csv('cluster_info.csv')\n",
    "hotspots = calculate_distance(curr_lat, curr_lng, hotspots)\n",
    "hotspots"
   ]
  },
  {
   "cell_type": "code",
   "execution_count": 39,
   "metadata": {},
   "outputs": [
    {
     "data": {
      "text/html": [
       "<div>\n",
       "<style scoped>\n",
       "    .dataframe tbody tr th:only-of-type {\n",
       "        vertical-align: middle;\n",
       "    }\n",
       "\n",
       "    .dataframe tbody tr th {\n",
       "        vertical-align: top;\n",
       "    }\n",
       "\n",
       "    .dataframe thead th {\n",
       "        text-align: right;\n",
       "    }\n",
       "</style>\n",
       "<table border=\"1\" class=\"dataframe\">\n",
       "  <thead>\n",
       "    <tr style=\"text-align: right;\">\n",
       "      <th></th>\n",
       "      <th>Cluster</th>\n",
       "      <th>Longitude</th>\n",
       "      <th>Latitude</th>\n",
       "      <th>Distance</th>\n",
       "    </tr>\n",
       "  </thead>\n",
       "  <tbody>\n",
       "  </tbody>\n",
       "</table>\n",
       "</div>"
      ],
      "text/plain": [
       "Empty DataFrame\n",
       "Columns: [Cluster, Longitude, Latitude, Distance]\n",
       "Index: []"
      ]
     },
     "execution_count": 39,
     "metadata": {},
     "output_type": "execute_result"
    }
   ],
   "source": [
    "activated_hotspots = pd.DataFrame(columns=hotspots.columns)\n",
    "activated_hotspots"
   ]
  },
  {
   "cell_type": "code",
   "execution_count": 40,
   "metadata": {},
   "outputs": [],
   "source": [
    "for i in range(0, hotspots.shape[0]):\n",
    "    curr_hotspot = hotspots.iloc[i]\n",
    "    \n",
    "    filepath = './classifier_by_cluster/'\n",
    "    filename = 'rf_classf_cluster' + str(curr_hotspot['Cluster'].astype(int)) + '.sav'\n",
    "    path = os.path.join(filepath, filename)\n",
    "    rf_model = pickle.load(open(path, 'rb'))\n",
    "    \n",
    "    result = rf_model.predict(X)[0]\n",
    "    if(result == True):\n",
    "        act = pd.DataFrame([[curr_hotspot.Cluster.astype(int), curr_hotspot.Longitude,\\\n",
    "                            curr_hotspot.Latitude, curr_hotspot.Distance]],\\\n",
    "                            columns = hotspots.columns)\n",
    "        activated_hotspots = activated_hotspots.append(act, ignore_index = True)"
   ]
  },
  {
   "cell_type": "code",
   "execution_count": 41,
   "metadata": {},
   "outputs": [
    {
     "data": {
      "text/html": [
       "<div>\n",
       "<style scoped>\n",
       "    .dataframe tbody tr th:only-of-type {\n",
       "        vertical-align: middle;\n",
       "    }\n",
       "\n",
       "    .dataframe tbody tr th {\n",
       "        vertical-align: top;\n",
       "    }\n",
       "\n",
       "    .dataframe thead th {\n",
       "        text-align: right;\n",
       "    }\n",
       "</style>\n",
       "<table border=\"1\" class=\"dataframe\">\n",
       "  <thead>\n",
       "    <tr style=\"text-align: right;\">\n",
       "      <th></th>\n",
       "      <th>Cluster</th>\n",
       "      <th>Longitude</th>\n",
       "      <th>Latitude</th>\n",
       "      <th>Distance</th>\n",
       "    </tr>\n",
       "  </thead>\n",
       "  <tbody>\n",
       "    <tr>\n",
       "      <td>0</td>\n",
       "      <td>0</td>\n",
       "      <td>-121.911475</td>\n",
       "      <td>37.250607</td>\n",
       "      <td>0.090120</td>\n",
       "    </tr>\n",
       "    <tr>\n",
       "      <td>1</td>\n",
       "      <td>5</td>\n",
       "      <td>-121.910047</td>\n",
       "      <td>37.314935</td>\n",
       "      <td>0.033787</td>\n",
       "    </tr>\n",
       "    <tr>\n",
       "      <td>2</td>\n",
       "      <td>20</td>\n",
       "      <td>-121.899759</td>\n",
       "      <td>37.321062</td>\n",
       "      <td>0.022027</td>\n",
       "    </tr>\n",
       "    <tr>\n",
       "      <td>3</td>\n",
       "      <td>33</td>\n",
       "      <td>-121.905547</td>\n",
       "      <td>37.386617</td>\n",
       "      <td>0.054624</td>\n",
       "    </tr>\n",
       "    <tr>\n",
       "      <td>4</td>\n",
       "      <td>62</td>\n",
       "      <td>-121.897776</td>\n",
       "      <td>37.337220</td>\n",
       "      <td>0.013818</td>\n",
       "    </tr>\n",
       "    <tr>\n",
       "      <td>5</td>\n",
       "      <td>77</td>\n",
       "      <td>-121.930032</td>\n",
       "      <td>37.422304</td>\n",
       "      <td>0.097442</td>\n",
       "    </tr>\n",
       "    <tr>\n",
       "      <td>6</td>\n",
       "      <td>86</td>\n",
       "      <td>-121.871370</td>\n",
       "      <td>37.290973</td>\n",
       "      <td>0.047175</td>\n",
       "    </tr>\n",
       "    <tr>\n",
       "      <td>7</td>\n",
       "      <td>100</td>\n",
       "      <td>-121.955877</td>\n",
       "      <td>37.419438</td>\n",
       "      <td>0.109815</td>\n",
       "    </tr>\n",
       "    <tr>\n",
       "      <td>8</td>\n",
       "      <td>111</td>\n",
       "      <td>-121.944043</td>\n",
       "      <td>37.419316</td>\n",
       "      <td>0.102360</td>\n",
       "    </tr>\n",
       "    <tr>\n",
       "      <td>9</td>\n",
       "      <td>120</td>\n",
       "      <td>-121.904513</td>\n",
       "      <td>37.346940</td>\n",
       "      <td>0.023066</td>\n",
       "    </tr>\n",
       "    <tr>\n",
       "      <td>10</td>\n",
       "      <td>130</td>\n",
       "      <td>-121.901296</td>\n",
       "      <td>37.342893</td>\n",
       "      <td>0.018483</td>\n",
       "    </tr>\n",
       "  </tbody>\n",
       "</table>\n",
       "</div>"
      ],
      "text/plain": [
       "   Cluster   Longitude   Latitude  Distance\n",
       "0        0 -121.911475  37.250607  0.090120\n",
       "1        5 -121.910047  37.314935  0.033787\n",
       "2       20 -121.899759  37.321062  0.022027\n",
       "3       33 -121.905547  37.386617  0.054624\n",
       "4       62 -121.897776  37.337220  0.013818\n",
       "5       77 -121.930032  37.422304  0.097442\n",
       "6       86 -121.871370  37.290973  0.047175\n",
       "7      100 -121.955877  37.419438  0.109815\n",
       "8      111 -121.944043  37.419316  0.102360\n",
       "9      120 -121.904513  37.346940  0.023066\n",
       "10     130 -121.901296  37.342893  0.018483"
      ]
     },
     "execution_count": 41,
     "metadata": {},
     "output_type": "execute_result"
    }
   ],
   "source": [
    "activated_hotspots"
   ]
  },
  {
   "cell_type": "code",
   "execution_count": 42,
   "metadata": {},
   "outputs": [
    {
     "name": "stdout",
     "output_type": "stream",
     "text": [
      "Total Number of Activated Clusters =  11\n"
     ]
    },
    {
     "data": {
      "application/vnd.jupyter.widget-view+json": {
       "model_id": "722048adac7f445ba96b80e8d41f95e5",
       "version_major": 2,
       "version_minor": 0
      },
      "text/plain": [
       "Figure(layout=FigureLayout(height='420px'))"
      ]
     },
     "metadata": {},
     "output_type": "display_data"
    }
   ],
   "source": [
    "gmaps.configure(api_key=map_key)\n",
    "\n",
    "activated_hotspots = activated_hotspots[['Latitude', 'Longitude']]\n",
    "curr_location = (curr_lat, curr_lng)\n",
    "print(\"Total Number of Activated Clusters = \", activated_hotspots.shape[0])\n",
    "\n",
    "fig = gmaps.figure(map_type='SATELLITE', center=(curr_lat, curr_lng), zoom_level=18)\n",
    "symbols = gmaps.symbol_layer(activated_hotspots, fill_color='red', stroke_color='red')\n",
    "fig.add_layer(symbols)\n",
    "fig"
   ]
  },
  {
   "cell_type": "code",
   "execution_count": 43,
   "metadata": {},
   "outputs": [
    {
     "name": "stderr",
     "output_type": "stream",
     "text": [
      "c:\\users\\swlee\\anaconda3\\envs\\cmpe255\\lib\\site-packages\\ipykernel_launcher.py:4: SettingWithCopyWarning: \n",
      "A value is trying to be set on a copy of a slice from a DataFrame.\n",
      "Try using .loc[row_indexer,col_indexer] = value instead\n",
      "\n",
      "See the caveats in the documentation: http://pandas.pydata.org/pandas-docs/stable/user_guide/indexing.html#returning-a-view-versus-a-copy\n",
      "  after removing the cwd from sys.path.\n"
     ]
    }
   ],
   "source": [
    "activated_hotspots = calculate_distance(curr_lat, curr_lng, activated_hotspots)\n",
    "activated_hotspots = activated_hotspots.sort_values(by=['Distance'])"
   ]
  },
  {
   "cell_type": "code",
   "execution_count": 44,
   "metadata": {},
   "outputs": [
    {
     "name": "stdout",
     "output_type": "stream",
     "text": [
      "Closest Hotspot =  (37.337220153846154, -121.8977756923077)\n"
     ]
    },
    {
     "data": {
      "application/vnd.jupyter.widget-view+json": {
       "model_id": "cbe9a942b4024a4bb083a9e926149402",
       "version_major": 2,
       "version_minor": 0
      },
      "text/plain": [
       "Figure(layout=FigureLayout(height='420px'))"
      ]
     },
     "metadata": {},
     "output_type": "display_data"
    }
   ],
   "source": [
    "gmaps.configure(api_key=map_key)\n",
    "\n",
    "activated_hotspots = activated_hotspots.iloc[0:1][['Latitude', 'Longitude']]\n",
    "curr_location = (curr_lat, curr_lng)\n",
    "activated_hotspot = (activated_hotspots['Latitude'].values[0], activated_hotspots['Longitude'].values[0])\n",
    "\n",
    "print(\"Closest Hotspot = \", activated_hotspot)\n",
    "\n",
    "fig = gmaps.figure()\n",
    "src_to_dest = gmaps.directions_layer(curr_location, activated_hotspot)\n",
    "fig.add_layer(src_to_dest)\n",
    "fig"
   ]
  },
  {
   "cell_type": "code",
   "execution_count": null,
   "metadata": {},
   "outputs": [],
   "source": []
  }
 ],
 "metadata": {
  "kernelspec": {
   "display_name": "Python 3",
   "language": "python",
   "name": "python3"
  },
  "language_info": {
   "codemirror_mode": {
    "name": "ipython",
    "version": 3
   },
   "file_extension": ".py",
   "mimetype": "text/x-python",
   "name": "python",
   "nbconvert_exporter": "python",
   "pygments_lexer": "ipython3",
   "version": "3.6.9"
  }
 },
 "nbformat": 4,
 "nbformat_minor": 2
}
